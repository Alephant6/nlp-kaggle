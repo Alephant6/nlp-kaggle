{
 "nbformat": 4,
 "nbformat_minor": 0,
 "metadata": {
  "colab": {
   "name": "14.6 子词嵌入.ipynb",
   "provenance": [],
   "authorship_tag": "ABX9TyM1apsJzXlXZBir+w0NcoDI",
   "include_colab_link": true
  },
  "kernelspec": {
   "name": "python3",
   "display_name": "Python 3"
  },
  "language_info": {
   "name": "python"
  }
 },
 "cells": [
  {
   "cell_type": "markdown",
   "metadata": {
    "id": "view-in-github",
    "colab_type": "text"
   },
   "source": [
    "<a href=\"https://colab.research.google.com/github/Alephant6/nlp-kaggle/blob/main/d2l/14_6_%E5%AD%90%E8%AF%8D%E5%B5%8C%E5%85%A5.ipynb\" target=\"_parent\"><img src=\"https://colab.research.google.com/assets/colab-badge.svg\" alt=\"Open In Colab\"/></a>"
   ]
  },
  {
   "cell_type": "code",
   "execution_count": null,
   "metadata": {
    "id": "45kRqIjEr9Is"
   },
   "outputs": [],
   "source": [
    "!pip install d2l\n",
    "!pip install matplotlib==3.0.0"
   ]
  },
  {
   "cell_type": "markdown",
   "source": [
    "## 2 字节对编码"
   ],
   "metadata": {
    "id": "7V5j2kwL4sip"
   }
  },
  {
   "cell_type": "code",
   "source": [
    "import collections\n",
    "\n",
    "symbols = ['a', 'b', 'c', 'd', 'e', 'f', 'g', 'h', 'i', 'j', 'k', 'l', 'm',\n",
    "           'n', 'o', 'p', 'q', 'r', 's', 't', 'u', 'v', 'w', 'x', 'y', 'z',\n",
    "           '_', '[UNK]']"
   ],
   "metadata": {
    "id": "qd4dDGNpseXi"
   },
   "execution_count": 2,
   "outputs": []
  },
  {
   "cell_type": "code",
   "source": [
    "raw_token_freqs = {'fast_': 4, 'faster_': 3, 'tall_': 5, 'taller_': 4}\n",
    "token_freqs = {}\n",
    "for token, freq in raw_token_freqs.items():\n",
    "  token_freqs[' '.join(list(token))] = raw_token_freqs[token]\n",
    "token_freqs"
   ],
   "metadata": {
    "colab": {
     "base_uri": "https://localhost:8080/"
    },
    "id": "8BfAYgO937S-",
    "outputId": "d2f393f5-80f1-4109-e34b-e46f271b82be"
   },
   "execution_count": 3,
   "outputs": [
    {
     "output_type": "execute_result",
     "data": {
      "text/plain": [
       "{'f a s t _': 4, 'f a s t e r _': 3, 't a l l _': 5, 't a l l e r _': 4}"
      ]
     },
     "metadata": {},
     "execution_count": 3
    }
   ]
  },
  {
   "cell_type": "code",
   "source": [
    "def get_max_freq_pair(token_freqs):\n",
    "  pairs = collections.defaultdict(int)\n",
    "  for token, freq in token_freqs.items():\n",
    "    symbols = token.split()\n",
    "    for i in range(len(symbols) - 1):\n",
    "      # “pairs”的键是两个连续符号的元组\n",
    "      pairs[symbols[i], symbols[i + 1]] += freq\n",
    "  return max(pairs, key=pairs.get)  # 具有最大值的“pairs”键"
   ],
   "metadata": {
    "id": "X6KFFRF84hE-"
   },
   "execution_count": 4,
   "outputs": []
  },
  {
   "cell_type": "code",
   "source": [
    "def merge_symbols(max_freq_pair, token_freqs, symbols):\n",
    "    symbols.append(''.join(max_freq_pair))\n",
    "    new_token_freqs = dict()\n",
    "    for token, freq in token_freqs.items():\n",
    "        new_token = token.replace(' '.join(max_freq_pair),\n",
    "                                  ''.join(max_freq_pair))\n",
    "        new_token_freqs[new_token] = token_freqs[token]\n",
    "    return new_token_freqs"
   ],
   "metadata": {
    "id": "PHVQNv5q5YVx"
   },
   "execution_count": 5,
   "outputs": []
  },
  {
   "cell_type": "code",
   "source": [
    "num_merges = 10\n",
    "for i in range(num_merges):\n",
    "    max_freq_pair = get_max_freq_pair(token_freqs)\n",
    "    token_freqs = merge_symbols(max_freq_pair, token_freqs, symbols)\n",
    "    print(f'合并# {i+1}:',max_freq_pair)"
   ],
   "metadata": {
    "colab": {
     "base_uri": "https://localhost:8080/"
    },
    "id": "YU1dCEAl7_1C",
    "outputId": "2389e620-f253-42e7-a274-662d853616e1"
   },
   "execution_count": 6,
   "outputs": [
    {
     "output_type": "stream",
     "name": "stdout",
     "text": [
      "合并# 1: ('t', 'a')\n",
      "合并# 2: ('ta', 'l')\n",
      "合并# 3: ('tal', 'l')\n",
      "合并# 4: ('f', 'a')\n",
      "合并# 5: ('fa', 's')\n",
      "合并# 6: ('fas', 't')\n",
      "合并# 7: ('e', 'r')\n",
      "合并# 8: ('er', '_')\n",
      "合并# 9: ('tall', '_')\n",
      "合并# 10: ('fast', '_')\n"
     ]
    }
   ]
  },
  {
   "cell_type": "code",
   "source": [
    "print(symbols)"
   ],
   "metadata": {
    "colab": {
     "base_uri": "https://localhost:8080/"
    },
    "id": "Sajhxn466W6u",
    "outputId": "1f6f2397-e4db-4035-97de-cc09ffc76d54"
   },
   "execution_count": 7,
   "outputs": [
    {
     "output_type": "stream",
     "name": "stdout",
     "text": [
      "['a', 'b', 'c', 'd', 'e', 'f', 'g', 'h', 'i', 'j', 'k', 'l', 'm', 'n', 'o', 'p', 'q', 'r', 's', 't', 'u', 'v', 'w', 'x', 'y', 'z', '_', '[UNK]', 'ta', 'tal', 'tall', 'fa', 'fas', 'fast', 'er', 'er_', 'tall_', 'fast_']\n"
     ]
    }
   ]
  },
  {
   "cell_type": "code",
   "source": [
    "print(list(token_freqs.keys()))"
   ],
   "metadata": {
    "colab": {
     "base_uri": "https://localhost:8080/"
    },
    "id": "YN8zRrGi6ose",
    "outputId": "0ed736fd-5ee2-4b5e-bc1c-f3b3de4509f8"
   },
   "execution_count": 8,
   "outputs": [
    {
     "output_type": "stream",
     "name": "stdout",
     "text": [
      "['fast_', 'fast er_', 'tall_', 'tall er_']\n"
     ]
    }
   ]
  },
  {
   "cell_type": "code",
   "source": [
    "def segment_BPE(tokens, symbols):\n",
    "  outputs = []\n",
    "  for token in tokens:\n",
    "    start, end = 0, len(token)\n",
    "    cur_output = []\n",
    "    while start < len(token) and start < end:\n",
    "      if token[start: end] in symbols:\n",
    "        cur_output.append(token[start: end])\n",
    "        start = end\n",
    "        end = len(token)\n",
    "      else:\n",
    "        end -= 1\n",
    "    if start < len(token):\n",
    "      cur_output.append('[UNK]')\n",
    "    outputs.append(' '.join(cur_output))\n",
    "  return outputs\n",
    "  "
   ],
   "metadata": {
    "id": "5SZbnQP-6vg_"
   },
   "execution_count": 9,
   "outputs": []
  },
  {
   "cell_type": "code",
   "source": [
    "tokens = ['tallest_', 'fatter_']\n",
    "print(segment_BPE(tokens, symbols))"
   ],
   "metadata": {
    "colab": {
     "base_uri": "https://localhost:8080/"
    },
    "id": "r9cegGJY-E8I",
    "outputId": "85dfebe1-1346-4f66-bd07-8534f28db0a9"
   },
   "execution_count": 10,
   "outputs": [
    {
     "output_type": "stream",
     "name": "stdout",
     "text": [
      "['tall e s t _', 'fa t t er_']\n"
     ]
    }
   ]
  },
  {
   "cell_type": "code",
   "source": [
    ""
   ],
   "metadata": {
    "id": "5Aph_FPR-Mnt"
   },
   "execution_count": null,
   "outputs": []
  }
 ]
}