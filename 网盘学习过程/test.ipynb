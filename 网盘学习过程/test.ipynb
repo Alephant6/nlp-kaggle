{
 "cells": [
  {
   "cell_type": "code",
   "execution_count": 1,
   "id": "80c7a572-aa24-4cd7-8a14-8f95d7342832",
   "metadata": {},
   "outputs": [
    {
     "name": "stdout",
     "output_type": "stream",
     "text": [
      "ipad输入\n"
     ]
    }
   ],
   "source": [
    "print(\"ipad输入\")"
   ]
  },
  {
   "cell_type": "code",
   "execution_count": 2,
   "id": "1c59dd17-9f3b-4623-9e07-4d944f5417e6",
   "metadata": {},
   "outputs": [],
   "source": [
    "#笑死, 不明觉厉"
   ]
  },
  {
   "cell_type": "code",
   "execution_count": 1,
   "id": "dc505751-1d74-4a77-b0bc-c4a5b868a738",
   "metadata": {},
   "outputs": [
    {
     "name": "stdout",
     "output_type": "stream",
     "text": [
      "nb!\n"
     ]
    }
   ],
   "source": [
    "print(\"nb!\")"
   ]
  },
  {
   "cell_type": "code",
   "execution_count": 2,
   "id": "8142b7a4-e292-4e48-8fdd-b33e095aab1e",
   "metadata": {},
   "outputs": [
    {
     "data": {
      "text/plain": [
       "3"
      ]
     },
     "execution_count": 2,
     "metadata": {},
     "output_type": "execute_result"
    }
   ],
   "source": [
    "1+2"
   ]
  },
  {
   "cell_type": "code",
   "execution_count": 3,
   "id": "97ca24e5-2a2a-4fee-a3ed-e46f7371c7a7",
   "metadata": {},
   "outputs": [
    {
     "data": {
      "text/plain": [
       "6561"
      ]
     },
     "execution_count": 3,
     "metadata": {},
     "output_type": "execute_result"
    }
   ],
   "source": [
    "3**8\n"
   ]
  },
  {
   "cell_type": "code",
   "execution_count": null,
   "id": "991d3cd1-39e0-463a-9d73-c709d9c3cf4b",
   "metadata": {},
   "outputs": [],
   "source": []
  }
 ],
 "metadata": {
  "kernelspec": {
   "display_name": "Python 3 (ipykernel)",
   "language": "python",
   "name": "python3"
  },
  "language_info": {
   "codemirror_mode": {
    "name": "ipython",
    "version": 3
   },
   "file_extension": ".py",
   "mimetype": "text/x-python",
   "name": "python",
   "nbconvert_exporter": "python",
   "pygments_lexer": "ipython3",
   "version": "3.10.4"
  }
 },
 "nbformat": 4,
 "nbformat_minor": 5
}
